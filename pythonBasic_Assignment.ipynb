{
  "nbformat": 4,
  "nbformat_minor": 0,
  "metadata": {
    "colab": {
      "provenance": []
    },
    "kernelspec": {
      "name": "python3",
      "display_name": "Python 3"
    },
    "language_info": {
      "name": "python"
    }
  },
  "cells": [
    {
      "cell_type": "markdown",
      "source": [
        "1. What is Python, and why is it popular\n",
        "*   Python is a simple and widely used programming language.\n",
        "\n",
        "\n",
        "\n"
      ],
      "metadata": {
        "id": "W56z2rCoPGrh"
      }
    },
    {
      "cell_type": "markdown",
      "source": [
        "2. What is an interpreter in Python\n",
        "\n",
        "*   It runs Python code line by line.\n",
        "\n",
        "\n"
      ],
      "metadata": {
        "id": "wTo-iGpvXKJD"
      }
    },
    {
      "cell_type": "markdown",
      "source": [
        "3. What are pre-defined keywords in Python?\n",
        "\n",
        "*   Special words like if, else, while, etc.\n",
        "\n",
        "4. Can keywords be used as variable names?\n",
        "\n",
        "* No, using keywords as variable names gives an error\n",
        "\n",
        "\n",
        "5. What is mutability in Python?\n",
        "\n",
        "*  It means whether a value can be changed or not.\n",
        "\n",
        "6. Why are lists mutable, but tuples are immutable?\n",
        "\n",
        "*   Lists can change, but tuples stay the same.\n",
        "\n",
        "7. What is the difference between == and is in Python?\n",
        "\n",
        "* == checks value; is checks memory location.\n",
        "\n",
        "8. What are logical operators in Python?\n",
        "\n",
        "*   They are and, or, and not.\n",
        "\n",
        "9. What is type casting in Python?\n",
        "\n",
        "*   It changes one data type to another.\n",
        "\n",
        "10. What is the difference between implicit and explicit type casting?\n",
        "\n",
        "*   Implicit is automatic; explicit is done by the programmer.\n",
        "\n",
        "11. What is the purpose of conditional statements in Python?\n",
        "\n",
        "*   They help make decisions in the code.\n",
        "\n",
        "12. How does the elif statement work?\n",
        "\n",
        "*   It checks another condition if if is false\n",
        "\n",
        "13. What is the difference between for and while loops?\n",
        "\n",
        "*   is used when count is known, while when it's not.\n",
        "\n",
        "14. Describe a scenario where a while loop is more suitable than a for loop.\n",
        "\n",
        "*  When you keep asking for input until the user types \"exit\".\n"
      ],
      "metadata": {
        "id": "krFYdJtnXVp0"
      }
    },
    {
      "cell_type": "markdown",
      "source": [
        " 1. Write a Python program to print \"Hello, World!"
      ],
      "metadata": {
        "id": "o3Xy5J5_WAPi"
      }
    },
    {
      "cell_type": "code",
      "source": [
        "#1\n",
        "print(\"Hello, World!\")"
      ],
      "metadata": {
        "colab": {
          "base_uri": "https://localhost:8080/"
        },
        "id": "h9quNsnPQ3jw",
        "outputId": "ad391e11-62f3-47ff-e781-a24dbd2a01eb"
      },
      "execution_count": 2,
      "outputs": [
        {
          "output_type": "stream",
          "name": "stdout",
          "text": [
            "Hello, World!\n"
          ]
        }
      ]
    },
    {
      "cell_type": "markdown",
      "source": [
        "2. Write a Python program that displays your name and age"
      ],
      "metadata": {
        "id": "ZAccwE0uV1Tv"
      }
    },
    {
      "cell_type": "code",
      "source": [
        "#2 e\n",
        "name = \"Navya\"\n",
        "age = 20\n",
        "print(\"Name:\", name)\n",
        "print(\"Age:\", age)"
      ],
      "metadata": {
        "colab": {
          "base_uri": "https://localhost:8080/"
        },
        "id": "gqxqg_iQRA41",
        "outputId": "eed4bf1a-6958-4f33-cfa8-6747857054b7"
      },
      "execution_count": 3,
      "outputs": [
        {
          "output_type": "stream",
          "name": "stdout",
          "text": [
            "Name: Navya\n",
            "Age: 20\n"
          ]
        }
      ]
    },
    {
      "cell_type": "markdown",
      "source": [
        "3. Write code to print all the pre-defined keywords in Python using the keyword library"
      ],
      "metadata": {
        "id": "e1obd9-kVutK"
      }
    },
    {
      "cell_type": "code",
      "source": [
        "#3\n",
        "import keyword\n",
        "print(keyword.kwlist)"
      ],
      "metadata": {
        "colab": {
          "base_uri": "https://localhost:8080/"
        },
        "id": "M7NiNoAkRET2",
        "outputId": "ecdf94ca-8dc9-4cc6-88f6-b8bc61c81bd0"
      },
      "execution_count": 4,
      "outputs": [
        {
          "output_type": "stream",
          "name": "stdout",
          "text": [
            "['False', 'None', 'True', 'and', 'as', 'assert', 'async', 'await', 'break', 'class', 'continue', 'def', 'del', 'elif', 'else', 'except', 'finally', 'for', 'from', 'global', 'if', 'import', 'in', 'is', 'lambda', 'nonlocal', 'not', 'or', 'pass', 'raise', 'return', 'try', 'while', 'with', 'yield']\n"
          ]
        }
      ]
    },
    {
      "cell_type": "markdown",
      "source": [
        "4. Write a program that checks if a given word is a Python keyword"
      ],
      "metadata": {
        "id": "dDZr5dd2Vnlz"
      }
    },
    {
      "cell_type": "code",
      "source": [
        "#4\n",
        "import keyword\n",
        "\n",
        "word = input(\"Enter a word: \")\n",
        "if keyword.iskeyword(word):\n",
        "    print(f\"{word} is a Python keyword.\")\n",
        "else:\n",
        "    print(f\"{word} is NOT a Python keyword.\")"
      ],
      "metadata": {
        "colab": {
          "base_uri": "https://localhost:8080/"
        },
        "id": "CuAy9gLBRIPL",
        "outputId": "94277dd1-c33e-4c7d-cf7d-d7295b6d5d41"
      },
      "execution_count": 5,
      "outputs": [
        {
          "output_type": "stream",
          "name": "stdout",
          "text": [
            "Enter a word: navya\n",
            "navya is NOT a Python keyword.\n"
          ]
        }
      ]
    },
    {
      "cell_type": "markdown",
      "source": [
        "5. Create a list and tuple in Python, and demonstrate how attempting to change an element works differently\n",
        "for each"
      ],
      "metadata": {
        "id": "JMpG0N3bUucH"
      }
    },
    {
      "cell_type": "code",
      "source": [
        "def modify_list(lst):\n",
        "    lst.append(100)\n",
        "    print(\"Inside function (list):\", lst)\n",
        "\n",
        "def modify_int(x):\n",
        "    x += 10\n",
        "    print(\"Inside function (int):\", x)\n",
        "\n",
        "my_list = [1, 2, 3]\n",
        "my_int = 5\n",
        "\n",
        "modify_list(my_list)\n",
        "print(\"Outside function (list):\", my_list)\n",
        "\n",
        "modify_int(my_int)\n",
        "print(\"Outside function (int):\", my_int)"
      ],
      "metadata": {
        "colab": {
          "base_uri": "https://localhost:8080/"
        },
        "id": "2XDQRsq0RJM7",
        "outputId": "e2967f94-93fd-47a3-8bd1-71422f390416"
      },
      "execution_count": 20,
      "outputs": [
        {
          "output_type": "stream",
          "name": "stdout",
          "text": [
            "Inside function (list): [1, 2, 3, 100]\n",
            "Outside function (list): [1, 2, 3, 100]\n",
            "Inside function (int): 15\n",
            "Outside function (int): 5\n"
          ]
        }
      ]
    },
    {
      "cell_type": "markdown",
      "source": [
        "6. Write a function to demonstrate the behavior of mutable and immutable arguments"
      ],
      "metadata": {
        "id": "XmSZjkIfU15a"
      }
    },
    {
      "cell_type": "code",
      "source": [
        "#6\n",
        "a = float(input(\"Enter first number: \"))\n",
        "b = float(input(\"Enter second number: \"))\n",
        "\n",
        "print(\"Addition:\", a + b)\n",
        "print(\"Subtraction:\", a - b)\n",
        "print(\"Multiplication:\", a * b)\n",
        "print(\"Division:\", a / b if b != 0 else \"Cannot divide by zero\")"
      ],
      "metadata": {
        "colab": {
          "base_uri": "https://localhost:8080/"
        },
        "id": "MKY2ks9IRQV7",
        "outputId": "3ec5ac79-ed52-40be-8c02-74dac4be4a66"
      },
      "execution_count": 7,
      "outputs": [
        {
          "output_type": "stream",
          "name": "stdout",
          "text": [
            "Enter first number: 4\n",
            "Enter second number: 6\n",
            "Addition: 10.0\n",
            "Subtraction: -2.0\n",
            "Multiplication: 24.0\n",
            "Division: 0.6666666666666666\n"
          ]
        }
      ]
    },
    {
      "cell_type": "markdown",
      "source": [
        "7. Write a program that performs basic arithmetic operations on two user-input numbers."
      ],
      "metadata": {
        "id": "IRnsbSXgU8W6"
      }
    },
    {
      "cell_type": "code",
      "source": [
        "#7\n",
        "x = 10\n",
        "y = 20\n",
        "\n",
        "print(x > 5 and y > 5)   # True\n",
        "print(x > 15 or y > 15)  # True\n",
        "print(not (x > y))"
      ],
      "metadata": {
        "colab": {
          "base_uri": "https://localhost:8080/"
        },
        "id": "s-549iuORTb2",
        "outputId": "04786358-8964-4ad5-ce7f-519d06445460"
      },
      "execution_count": 8,
      "outputs": [
        {
          "output_type": "stream",
          "name": "stdout",
          "text": [
            "True\n",
            "True\n",
            "True\n"
          ]
        }
      ]
    },
    {
      "cell_type": "markdown",
      "source": [
        "8. Write a program to demonstrate the use of logical operators."
      ],
      "metadata": {
        "id": "b4oR3oZpVAz_"
      }
    },
    {
      "cell_type": "code",
      "source": [
        "#8\n",
        "my_list = [1, 2, 3]\n",
        "my_tuple = (1, 2, 3)\n",
        "\n",
        "my_list[0] = 10  # This is allowed\n",
        "print(\"Modified list:\", my_list)\n",
        "\n",
        "# my_tuple[0] = 10  # This will raise a TypeError\n",
        "print(\"Original tuple:\", my_tuple)"
      ],
      "metadata": {
        "colab": {
          "base_uri": "https://localhost:8080/"
        },
        "id": "qWYaMIGXRWh8",
        "outputId": "3b4f74cb-862e-4da0-e7e6-e6ac74d18133"
      },
      "execution_count": 9,
      "outputs": [
        {
          "output_type": "stream",
          "name": "stdout",
          "text": [
            "Modified list: [10, 2, 3]\n",
            "Original tuple: (1, 2, 3)\n"
          ]
        }
      ]
    },
    {
      "cell_type": "markdown",
      "source": [
        "9. Write a Python program to convert user input from string to integer, float, and boolean types."
      ],
      "metadata": {
        "id": "NCw898nbVEcM"
      }
    },
    {
      "cell_type": "code",
      "source": [
        "#9\n",
        "s = input(\"Enter a value: \")\n",
        "print(\"As integer:\", int(s))\n",
        "print(\"As float:\", float(s))\n",
        "print(\"As boolean:\", bool(s))"
      ],
      "metadata": {
        "colab": {
          "base_uri": "https://localhost:8080/"
        },
        "id": "-H7QkcreRZuN",
        "outputId": "7ae69015-342b-4dbe-d1b1-eb4faca24ceb"
      },
      "execution_count": 10,
      "outputs": [
        {
          "output_type": "stream",
          "name": "stdout",
          "text": [
            "Enter a value: 67\n",
            "As integer: 67\n",
            "As float: 67.0\n",
            "As boolean: True\n"
          ]
        }
      ]
    },
    {
      "cell_type": "markdown",
      "source": [
        "10. Write code to demonstrate type casting with list elements.\n",
        "\n",
        ""
      ],
      "metadata": {
        "id": "7KS1tQ13VHsh"
      }
    },
    {
      "cell_type": "code",
      "source": [
        "#10\n",
        "str_list = ['1', '2', '3']\n",
        "int_list = [int(x) for x in str_list]\n",
        "print(\"Converted to integers:\", int_list)"
      ],
      "metadata": {
        "colab": {
          "base_uri": "https://localhost:8080/"
        },
        "id": "VsBHm9Z3RdZX",
        "outputId": "4fe5c32b-3be1-4b3e-997c-9d8af9a289df"
      },
      "execution_count": 11,
      "outputs": [
        {
          "output_type": "stream",
          "name": "stdout",
          "text": [
            "Converted to integers: [1, 2, 3]\n"
          ]
        }
      ]
    },
    {
      "cell_type": "markdown",
      "source": [
        "11. Write a program that checks if a number is positive, negative,"
      ],
      "metadata": {
        "id": "_r2sIuknVNbC"
      }
    },
    {
      "cell_type": "code",
      "source": [
        "#11\n",
        "num = float(input(\"Enter a number: \"))\n",
        "if num > 0:\n",
        "    print(\"Positive\")\n",
        "elif num < 0:\n",
        "    print(\"Negative\")\n",
        "else:\n",
        "    print(\"Zero\")"
      ],
      "metadata": {
        "colab": {
          "base_uri": "https://localhost:8080/"
        },
        "id": "vIwUCLEGRfay",
        "outputId": "982c266f-dc52-4141-fd3d-6022be8fd88f"
      },
      "execution_count": 12,
      "outputs": [
        {
          "output_type": "stream",
          "name": "stdout",
          "text": [
            "Enter a number: 6\n",
            "Positive\n"
          ]
        }
      ]
    },
    {
      "cell_type": "markdown",
      "source": [
        "12. Write a for loop to print numbers from 1 to 10."
      ],
      "metadata": {
        "id": "DL5NKg7yVQo0"
      }
    },
    {
      "cell_type": "code",
      "source": [
        "#12\n",
        "for i in range(1, 11):\n",
        "    print(i)"
      ],
      "metadata": {
        "colab": {
          "base_uri": "https://localhost:8080/"
        },
        "id": "Vcur5WnCRjvV",
        "outputId": "fa34d6e9-f07e-4893-f188-96afff273e9d"
      },
      "execution_count": 13,
      "outputs": [
        {
          "output_type": "stream",
          "name": "stdout",
          "text": [
            "1\n",
            "2\n",
            "3\n",
            "4\n",
            "5\n",
            "6\n",
            "7\n",
            "8\n",
            "9\n",
            "10\n"
          ]
        }
      ]
    },
    {
      "cell_type": "markdown",
      "source": [
        "13. Write a Python program to find the sum of all even numbers between 1 and 50."
      ],
      "metadata": {
        "id": "SHC1P8VmVT7O"
      }
    },
    {
      "cell_type": "code",
      "source": [
        "#13\n",
        "sum_even = sum(i for i in range(1, 51) if i % 2 == 0)\n",
        "print(\"Sum of even numbers from 1 to 50:\", sum_even)"
      ],
      "metadata": {
        "colab": {
          "base_uri": "https://localhost:8080/"
        },
        "id": "r_lpz9UxRlvN",
        "outputId": "922bc1cd-f2df-4dd0-a7b9-dfd0119ae302"
      },
      "execution_count": 14,
      "outputs": [
        {
          "output_type": "stream",
          "name": "stdout",
          "text": [
            "Sum of even numbers from 1 to 50: 650\n"
          ]
        }
      ]
    },
    {
      "cell_type": "markdown",
      "source": [
        "14. Write a program to reverse a string using a while loop."
      ],
      "metadata": {
        "id": "I0AGLa-xVY0z"
      }
    },
    {
      "cell_type": "code",
      "source": [
        "#14\n",
        "s = input(\"Enter a string: \")\n",
        "reversed_str = \"\"\n",
        "i = len(s) - 1\n",
        "while i >= 0:\n",
        "    reversed_str += s[i]\n",
        "    i -= 1\n",
        "print(\"Reversed string:\", reversed_str)"
      ],
      "metadata": {
        "colab": {
          "base_uri": "https://localhost:8080/"
        },
        "id": "J9JmxhV2Rn2H",
        "outputId": "33afeb2f-b3d2-4c1a-a149-2786395069d3"
      },
      "execution_count": 16,
      "outputs": [
        {
          "output_type": "stream",
          "name": "stdout",
          "text": [
            "Enter a string: navya\n",
            "Reversed string: ayvan\n"
          ]
        }
      ]
    },
    {
      "cell_type": "markdown",
      "source": [
        "15. Write a Python program to calculate the factorial of a number provided by the user using a while loop."
      ],
      "metadata": {
        "id": "OXH3fK9rVdW2"
      }
    },
    {
      "cell_type": "code",
      "source": [
        "#15.\n",
        "num = int(input(\"Enter a number: \"))\n",
        "fact = 1\n",
        "i = 1\n",
        "while i <= num:\n",
        "    fact *= i\n",
        "    i += 1\n",
        "print(f\"Factorial of {num} is {fact}\")"
      ],
      "metadata": {
        "colab": {
          "base_uri": "https://localhost:8080/"
        },
        "id": "4FSdjjRaRp6I",
        "outputId": "04669569-f2af-4710-b23c-2c1ee8962594"
      },
      "execution_count": 18,
      "outputs": [
        {
          "output_type": "stream",
          "name": "stdout",
          "text": [
            "Enter a number: 45\n",
            "Factorial of 45 is 119622220865480194561963161495657715064383733760000000000\n"
          ]
        }
      ]
    }
  ]
}